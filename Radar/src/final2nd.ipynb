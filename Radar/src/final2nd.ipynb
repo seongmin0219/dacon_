{
 "cells": [
  {
   "cell_type": "code",
   "execution_count": 1,
   "metadata": {
    "collapsed": true,
    "pycharm": {
     "name": "#%%\n"
    }
   },
   "outputs": [],
   "source": [
    "from matplotlib import pyplot as plt\n",
    "import pandas as pd\n",
    "import numpy as np\n",
    "import seaborn as sns\n",
    "%matplotlib inline\n",
    "\n"
   ]
  },
  {
   "cell_type": "code",
   "execution_count": 2,
   "outputs": [],
   "source": [
    "pd.set_option(\"mode.chained_assignment\", None) # <=== 경고를 끈다"
   ],
   "metadata": {
    "collapsed": false,
    "pycharm": {
     "name": "#%%\n"
    }
   }
  },
  {
   "cell_type": "code",
   "execution_count": 4,
   "outputs": [],
   "source": [
    "filename= '../data/train.csv'"
   ],
   "metadata": {
    "collapsed": false,
    "pycharm": {
     "name": "#%%\n"
    }
   }
  },
  {
   "cell_type": "code",
   "execution_count": 5,
   "outputs": [],
   "source": [
    "data_train = pd.read_csv(filename)"
   ],
   "metadata": {
    "collapsed": false,
    "pycharm": {
     "name": "#%%\n"
    }
   }
  },
  {
   "cell_type": "code",
   "execution_count": 6,
   "outputs": [],
   "source": [
    "filename = '../data/test.csv'"
   ],
   "metadata": {
    "collapsed": false,
    "pycharm": {
     "name": "#%%\n"
    }
   }
  },
  {
   "cell_type": "code",
   "execution_count": 7,
   "outputs": [],
   "source": [
    "data_test = pd.read_csv(filename)"
   ],
   "metadata": {
    "collapsed": false,
    "pycharm": {
     "name": "#%%\n"
    }
   }
  },
  {
   "cell_type": "code",
   "execution_count": 12,
   "outputs": [],
   "source": [
    "filename = '../data/meta/y_feature_spec_info.csv'"
   ],
   "metadata": {
    "collapsed": false,
    "pycharm": {
     "name": "#%%\n"
    }
   }
  },
  {
   "cell_type": "code",
   "execution_count": 13,
   "outputs": [],
   "source": [
    "data_threshold = pd.read_csv(filename)"
   ],
   "metadata": {
    "collapsed": false,
    "pycharm": {
     "name": "#%%\n"
    }
   }
  },
  {
   "cell_type": "code",
   "execution_count": 14,
   "outputs": [],
   "source": [
    "# y feature data의 threashold에 따른 정상 / 비정상 label 부여\n",
    "def get_label(data_df):\n",
    "  label = []\n",
    "  for i in range(data_df.shape[0]):\n",
    "    is_anomaly = False\n",
    "    for idx in range(len(data_threshold)):\n",
    "      if data_df[data_threshold[\"Feature\"].iloc[idx]].iloc[i] < data_threshold[\"최소\"].iloc[idx]:\n",
    "        is_anomaly = True\n",
    "        break\n",
    "      elif data_df[data_threshold[\"Feature\"].iloc[idx]].iloc[i] > data_threshold[\"최대\"].iloc[idx]:\n",
    "        is_anomaly = True\n",
    "        break\n",
    "    if is_anomaly:\n",
    "      label.append(1)\n",
    "    else:\n",
    "      label.append(0)\n",
    "  return label"
   ],
   "metadata": {
    "collapsed": false,
    "pycharm": {
     "name": "#%%\n"
    }
   }
  },
  {
   "cell_type": "code",
   "execution_count": 16,
   "outputs": [
    {
     "data": {
      "text/plain": "   Feature    최소    최대\n0     Y_01   0.2   2.0\n1     Y_02   0.2   2.1\n2     Y_03   0.2   2.1\n3     Y_04   7.0  19.0\n4     Y_05  22.0  36.5\n5     Y_06 -19.2  19.0\n6     Y_07   2.4   4.0\n7     Y_08 -29.2 -24.0\n8     Y_09 -29.2 -24.0\n9     Y_10 -30.6 -20.0\n10    Y_11  19.6  26.6\n11    Y_12 -29.2 -24.0\n12    Y_13 -29.2 -24.0\n13    Y_14 -29.2 -24.0",
      "text/html": "<div>\n<style scoped>\n    .dataframe tbody tr th:only-of-type {\n        vertical-align: middle;\n    }\n\n    .dataframe tbody tr th {\n        vertical-align: top;\n    }\n\n    .dataframe thead th {\n        text-align: right;\n    }\n</style>\n<table border=\"1\" class=\"dataframe\">\n  <thead>\n    <tr style=\"text-align: right;\">\n      <th></th>\n      <th>Feature</th>\n      <th>최소</th>\n      <th>최대</th>\n    </tr>\n  </thead>\n  <tbody>\n    <tr>\n      <th>0</th>\n      <td>Y_01</td>\n      <td>0.2</td>\n      <td>2.0</td>\n    </tr>\n    <tr>\n      <th>1</th>\n      <td>Y_02</td>\n      <td>0.2</td>\n      <td>2.1</td>\n    </tr>\n    <tr>\n      <th>2</th>\n      <td>Y_03</td>\n      <td>0.2</td>\n      <td>2.1</td>\n    </tr>\n    <tr>\n      <th>3</th>\n      <td>Y_04</td>\n      <td>7.0</td>\n      <td>19.0</td>\n    </tr>\n    <tr>\n      <th>4</th>\n      <td>Y_05</td>\n      <td>22.0</td>\n      <td>36.5</td>\n    </tr>\n    <tr>\n      <th>5</th>\n      <td>Y_06</td>\n      <td>-19.2</td>\n      <td>19.0</td>\n    </tr>\n    <tr>\n      <th>6</th>\n      <td>Y_07</td>\n      <td>2.4</td>\n      <td>4.0</td>\n    </tr>\n    <tr>\n      <th>7</th>\n      <td>Y_08</td>\n      <td>-29.2</td>\n      <td>-24.0</td>\n    </tr>\n    <tr>\n      <th>8</th>\n      <td>Y_09</td>\n      <td>-29.2</td>\n      <td>-24.0</td>\n    </tr>\n    <tr>\n      <th>9</th>\n      <td>Y_10</td>\n      <td>-30.6</td>\n      <td>-20.0</td>\n    </tr>\n    <tr>\n      <th>10</th>\n      <td>Y_11</td>\n      <td>19.6</td>\n      <td>26.6</td>\n    </tr>\n    <tr>\n      <th>11</th>\n      <td>Y_12</td>\n      <td>-29.2</td>\n      <td>-24.0</td>\n    </tr>\n    <tr>\n      <th>12</th>\n      <td>Y_13</td>\n      <td>-29.2</td>\n      <td>-24.0</td>\n    </tr>\n    <tr>\n      <th>13</th>\n      <td>Y_14</td>\n      <td>-29.2</td>\n      <td>-24.0</td>\n    </tr>\n  </tbody>\n</table>\n</div>"
     },
     "execution_count": 16,
     "metadata": {},
     "output_type": "execute_result"
    }
   ],
   "source": [
    "# 최소 최대 값으로 이상치 부여\n",
    "data_threshold"
   ],
   "metadata": {
    "collapsed": false,
    "pycharm": {
     "name": "#%%\n"
    }
   }
  },
  {
   "cell_type": "code",
   "execution_count": 17,
   "outputs": [
    {
     "data": {
      "text/plain": "  Feature    최소    최대\n0    Y_01   0.2   2.0\n1    Y_02   0.2   2.1\n2    Y_03   0.2   2.1\n3    Y_04   7.0  19.0\n4    Y_05  22.0  36.5",
      "text/html": "<div>\n<style scoped>\n    .dataframe tbody tr th:only-of-type {\n        vertical-align: middle;\n    }\n\n    .dataframe tbody tr th {\n        vertical-align: top;\n    }\n\n    .dataframe thead th {\n        text-align: right;\n    }\n</style>\n<table border=\"1\" class=\"dataframe\">\n  <thead>\n    <tr style=\"text-align: right;\">\n      <th></th>\n      <th>Feature</th>\n      <th>최소</th>\n      <th>최대</th>\n    </tr>\n  </thead>\n  <tbody>\n    <tr>\n      <th>0</th>\n      <td>Y_01</td>\n      <td>0.2</td>\n      <td>2.0</td>\n    </tr>\n    <tr>\n      <th>1</th>\n      <td>Y_02</td>\n      <td>0.2</td>\n      <td>2.1</td>\n    </tr>\n    <tr>\n      <th>2</th>\n      <td>Y_03</td>\n      <td>0.2</td>\n      <td>2.1</td>\n    </tr>\n    <tr>\n      <th>3</th>\n      <td>Y_04</td>\n      <td>7.0</td>\n      <td>19.0</td>\n    </tr>\n    <tr>\n      <th>4</th>\n      <td>Y_05</td>\n      <td>22.0</td>\n      <td>36.5</td>\n    </tr>\n  </tbody>\n</table>\n</div>"
     },
     "execution_count": 17,
     "metadata": {},
     "output_type": "execute_result"
    }
   ],
   "source": [
    "data_threshold.head()"
   ],
   "metadata": {
    "collapsed": false,
    "pycharm": {
     "name": "#%%\n"
    }
   }
  },
  {
   "cell_type": "code",
   "execution_count": 18,
   "outputs": [
    {
     "data": {
      "text/plain": "                ID    X_01     X_02   X_03  X_04     X_05    X_06   X_07  \\\n0      TRAIN_00001  70.544  103.320  67.47     1  101.892  74.983  29.45   \n1      TRAIN_00002  69.524  103.321  65.17     1  101.944  72.943  28.73   \n2      TRAIN_00003  72.583  103.320  64.07     1  103.153  72.943  28.81   \n3      TRAIN_00004  71.563  103.320  67.57     1  101.971  77.022  28.92   \n4      TRAIN_00005  69.524  103.320  63.57     1  101.981  70.904  29.68   \n...            ...     ...      ...    ...   ...      ...     ...    ...   \n39602  TRAIN_39603  66.465  103.320  62.27     1  103.150  66.825  30.20   \n39603  TRAIN_39604  66.465  103.321  62.77     1  102.021  66.825  29.21   \n39604  TRAIN_39605  68.504  103.320  64.67     1  103.144  68.864  29.96   \n39605  TRAIN_39606  66.465  103.320  63.67     1  102.025  67.845  30.30   \n39606  TRAIN_39607  66.465  103.320  65.67     1  102.004  69.884  30.16   \n\n         X_08    X_09  ...    Y_05    Y_06   Y_07    Y_08    Y_09    Y_10  \\\n0       62.38  245.71  ...  29.632  16.083  4.276 -25.381 -25.529 -22.769   \n1       61.23  233.61  ...  33.179  16.736  3.229 -26.619 -26.523 -22.574   \n2      105.77  272.20  ...  31.801  17.080  2.839 -26.238 -26.216 -22.169   \n3      115.21  255.36  ...  34.503  17.143  3.144 -25.426 -25.079 -21.765   \n4      103.38  241.46  ...  32.602  17.569  3.138 -25.376 -25.242 -21.072   \n...       ...     ...  ...     ...     ...    ...     ...     ...     ...   \n39602   77.83  298.05  ...  29.194  16.582  3.410 -26.486 -26.581 -22.772   \n39603  102.25  270.67  ...  29.859  15.659  3.406 -27.308 -27.203 -24.674   \n39604  102.61  198.07  ...  24.720  16.823  3.215 -26.502 -26.687 -22.577   \n39605  112.60  275.52  ...  26.412  15.757  4.216 -26.760 -26.634 -24.066   \n39606  112.90  276.06  ...  30.745  16.781  3.307 -26.054 -26.251 -23.257   \n\n         Y_11    Y_12    Y_13    Y_14  \n0      23.792 -25.470 -25.409 -25.304  \n1      24.691 -26.253 -26.497 -26.438  \n2      24.649 -26.285 -26.215 -26.370  \n3      24.913 -25.254 -25.021 -25.345  \n4      25.299 -25.072 -25.195 -24.974  \n...       ...     ...     ...     ...  \n39602  24.261 -26.491 -26.584 -26.580  \n39603  23.427 -27.250 -27.334 -27.325  \n39604  24.301 -26.388 -26.425 -26.601  \n39605  23.305 -26.536 -26.751 -26.635  \n39606  24.450 -26.224 -26.256 -26.093  \n\n[39607 rows x 71 columns]",
      "text/html": "<div>\n<style scoped>\n    .dataframe tbody tr th:only-of-type {\n        vertical-align: middle;\n    }\n\n    .dataframe tbody tr th {\n        vertical-align: top;\n    }\n\n    .dataframe thead th {\n        text-align: right;\n    }\n</style>\n<table border=\"1\" class=\"dataframe\">\n  <thead>\n    <tr style=\"text-align: right;\">\n      <th></th>\n      <th>ID</th>\n      <th>X_01</th>\n      <th>X_02</th>\n      <th>X_03</th>\n      <th>X_04</th>\n      <th>X_05</th>\n      <th>X_06</th>\n      <th>X_07</th>\n      <th>X_08</th>\n      <th>X_09</th>\n      <th>...</th>\n      <th>Y_05</th>\n      <th>Y_06</th>\n      <th>Y_07</th>\n      <th>Y_08</th>\n      <th>Y_09</th>\n      <th>Y_10</th>\n      <th>Y_11</th>\n      <th>Y_12</th>\n      <th>Y_13</th>\n      <th>Y_14</th>\n    </tr>\n  </thead>\n  <tbody>\n    <tr>\n      <th>0</th>\n      <td>TRAIN_00001</td>\n      <td>70.544</td>\n      <td>103.320</td>\n      <td>67.47</td>\n      <td>1</td>\n      <td>101.892</td>\n      <td>74.983</td>\n      <td>29.45</td>\n      <td>62.38</td>\n      <td>245.71</td>\n      <td>...</td>\n      <td>29.632</td>\n      <td>16.083</td>\n      <td>4.276</td>\n      <td>-25.381</td>\n      <td>-25.529</td>\n      <td>-22.769</td>\n      <td>23.792</td>\n      <td>-25.470</td>\n      <td>-25.409</td>\n      <td>-25.304</td>\n    </tr>\n    <tr>\n      <th>1</th>\n      <td>TRAIN_00002</td>\n      <td>69.524</td>\n      <td>103.321</td>\n      <td>65.17</td>\n      <td>1</td>\n      <td>101.944</td>\n      <td>72.943</td>\n      <td>28.73</td>\n      <td>61.23</td>\n      <td>233.61</td>\n      <td>...</td>\n      <td>33.179</td>\n      <td>16.736</td>\n      <td>3.229</td>\n      <td>-26.619</td>\n      <td>-26.523</td>\n      <td>-22.574</td>\n      <td>24.691</td>\n      <td>-26.253</td>\n      <td>-26.497</td>\n      <td>-26.438</td>\n    </tr>\n    <tr>\n      <th>2</th>\n      <td>TRAIN_00003</td>\n      <td>72.583</td>\n      <td>103.320</td>\n      <td>64.07</td>\n      <td>1</td>\n      <td>103.153</td>\n      <td>72.943</td>\n      <td>28.81</td>\n      <td>105.77</td>\n      <td>272.20</td>\n      <td>...</td>\n      <td>31.801</td>\n      <td>17.080</td>\n      <td>2.839</td>\n      <td>-26.238</td>\n      <td>-26.216</td>\n      <td>-22.169</td>\n      <td>24.649</td>\n      <td>-26.285</td>\n      <td>-26.215</td>\n      <td>-26.370</td>\n    </tr>\n    <tr>\n      <th>3</th>\n      <td>TRAIN_00004</td>\n      <td>71.563</td>\n      <td>103.320</td>\n      <td>67.57</td>\n      <td>1</td>\n      <td>101.971</td>\n      <td>77.022</td>\n      <td>28.92</td>\n      <td>115.21</td>\n      <td>255.36</td>\n      <td>...</td>\n      <td>34.503</td>\n      <td>17.143</td>\n      <td>3.144</td>\n      <td>-25.426</td>\n      <td>-25.079</td>\n      <td>-21.765</td>\n      <td>24.913</td>\n      <td>-25.254</td>\n      <td>-25.021</td>\n      <td>-25.345</td>\n    </tr>\n    <tr>\n      <th>4</th>\n      <td>TRAIN_00005</td>\n      <td>69.524</td>\n      <td>103.320</td>\n      <td>63.57</td>\n      <td>1</td>\n      <td>101.981</td>\n      <td>70.904</td>\n      <td>29.68</td>\n      <td>103.38</td>\n      <td>241.46</td>\n      <td>...</td>\n      <td>32.602</td>\n      <td>17.569</td>\n      <td>3.138</td>\n      <td>-25.376</td>\n      <td>-25.242</td>\n      <td>-21.072</td>\n      <td>25.299</td>\n      <td>-25.072</td>\n      <td>-25.195</td>\n      <td>-24.974</td>\n    </tr>\n    <tr>\n      <th>...</th>\n      <td>...</td>\n      <td>...</td>\n      <td>...</td>\n      <td>...</td>\n      <td>...</td>\n      <td>...</td>\n      <td>...</td>\n      <td>...</td>\n      <td>...</td>\n      <td>...</td>\n      <td>...</td>\n      <td>...</td>\n      <td>...</td>\n      <td>...</td>\n      <td>...</td>\n      <td>...</td>\n      <td>...</td>\n      <td>...</td>\n      <td>...</td>\n      <td>...</td>\n      <td>...</td>\n    </tr>\n    <tr>\n      <th>39602</th>\n      <td>TRAIN_39603</td>\n      <td>66.465</td>\n      <td>103.320</td>\n      <td>62.27</td>\n      <td>1</td>\n      <td>103.150</td>\n      <td>66.825</td>\n      <td>30.20</td>\n      <td>77.83</td>\n      <td>298.05</td>\n      <td>...</td>\n      <td>29.194</td>\n      <td>16.582</td>\n      <td>3.410</td>\n      <td>-26.486</td>\n      <td>-26.581</td>\n      <td>-22.772</td>\n      <td>24.261</td>\n      <td>-26.491</td>\n      <td>-26.584</td>\n      <td>-26.580</td>\n    </tr>\n    <tr>\n      <th>39603</th>\n      <td>TRAIN_39604</td>\n      <td>66.465</td>\n      <td>103.321</td>\n      <td>62.77</td>\n      <td>1</td>\n      <td>102.021</td>\n      <td>66.825</td>\n      <td>29.21</td>\n      <td>102.25</td>\n      <td>270.67</td>\n      <td>...</td>\n      <td>29.859</td>\n      <td>15.659</td>\n      <td>3.406</td>\n      <td>-27.308</td>\n      <td>-27.203</td>\n      <td>-24.674</td>\n      <td>23.427</td>\n      <td>-27.250</td>\n      <td>-27.334</td>\n      <td>-27.325</td>\n    </tr>\n    <tr>\n      <th>39604</th>\n      <td>TRAIN_39605</td>\n      <td>68.504</td>\n      <td>103.320</td>\n      <td>64.67</td>\n      <td>1</td>\n      <td>103.144</td>\n      <td>68.864</td>\n      <td>29.96</td>\n      <td>102.61</td>\n      <td>198.07</td>\n      <td>...</td>\n      <td>24.720</td>\n      <td>16.823</td>\n      <td>3.215</td>\n      <td>-26.502</td>\n      <td>-26.687</td>\n      <td>-22.577</td>\n      <td>24.301</td>\n      <td>-26.388</td>\n      <td>-26.425</td>\n      <td>-26.601</td>\n    </tr>\n    <tr>\n      <th>39605</th>\n      <td>TRAIN_39606</td>\n      <td>66.465</td>\n      <td>103.320</td>\n      <td>63.67</td>\n      <td>1</td>\n      <td>102.025</td>\n      <td>67.845</td>\n      <td>30.30</td>\n      <td>112.60</td>\n      <td>275.52</td>\n      <td>...</td>\n      <td>26.412</td>\n      <td>15.757</td>\n      <td>4.216</td>\n      <td>-26.760</td>\n      <td>-26.634</td>\n      <td>-24.066</td>\n      <td>23.305</td>\n      <td>-26.536</td>\n      <td>-26.751</td>\n      <td>-26.635</td>\n    </tr>\n    <tr>\n      <th>39606</th>\n      <td>TRAIN_39607</td>\n      <td>66.465</td>\n      <td>103.320</td>\n      <td>65.67</td>\n      <td>1</td>\n      <td>102.004</td>\n      <td>69.884</td>\n      <td>30.16</td>\n      <td>112.90</td>\n      <td>276.06</td>\n      <td>...</td>\n      <td>30.745</td>\n      <td>16.781</td>\n      <td>3.307</td>\n      <td>-26.054</td>\n      <td>-26.251</td>\n      <td>-23.257</td>\n      <td>24.450</td>\n      <td>-26.224</td>\n      <td>-26.256</td>\n      <td>-26.093</td>\n    </tr>\n  </tbody>\n</table>\n<p>39607 rows × 71 columns</p>\n</div>"
     },
     "execution_count": 18,
     "metadata": {},
     "output_type": "execute_result"
    }
   ],
   "source": [
    "data_train"
   ],
   "metadata": {
    "collapsed": false,
    "pycharm": {
     "name": "#%%\n"
    }
   }
  },
  {
   "cell_type": "code",
   "execution_count": 19,
   "outputs": [],
   "source": [
    "data_train[\"label\"] = get_label(data_train)"
   ],
   "metadata": {
    "collapsed": false,
    "pycharm": {
     "name": "#%%\n"
    }
   }
  },
  {
   "cell_type": "code",
   "execution_count": 20,
   "outputs": [
    {
     "data": {
      "text/plain": "            ID    X_01     X_02   X_03  X_04     X_05    X_06   X_07    X_08  \\\n0  TRAIN_00001  70.544  103.320  67.47     1  101.892  74.983  29.45   62.38   \n1  TRAIN_00002  69.524  103.321  65.17     1  101.944  72.943  28.73   61.23   \n2  TRAIN_00003  72.583  103.320  64.07     1  103.153  72.943  28.81  105.77   \n3  TRAIN_00004  71.563  103.320  67.57     1  101.971  77.022  28.92  115.21   \n4  TRAIN_00005  69.524  103.320  63.57     1  101.981  70.904  29.68  103.38   \n\n     X_09  ...    Y_06   Y_07    Y_08    Y_09    Y_10    Y_11    Y_12    Y_13  \\\n0  245.71  ...  16.083  4.276 -25.381 -25.529 -22.769  23.792 -25.470 -25.409   \n1  233.61  ...  16.736  3.229 -26.619 -26.523 -22.574  24.691 -26.253 -26.497   \n2  272.20  ...  17.080  2.839 -26.238 -26.216 -22.169  24.649 -26.285 -26.215   \n3  255.36  ...  17.143  3.144 -25.426 -25.079 -21.765  24.913 -25.254 -25.021   \n4  241.46  ...  17.569  3.138 -25.376 -25.242 -21.072  25.299 -25.072 -25.195   \n\n     Y_14  label  \n0 -25.304      1  \n1 -26.438      0  \n2 -26.370      0  \n3 -25.345      0  \n4 -24.974      0  \n\n[5 rows x 72 columns]",
      "text/html": "<div>\n<style scoped>\n    .dataframe tbody tr th:only-of-type {\n        vertical-align: middle;\n    }\n\n    .dataframe tbody tr th {\n        vertical-align: top;\n    }\n\n    .dataframe thead th {\n        text-align: right;\n    }\n</style>\n<table border=\"1\" class=\"dataframe\">\n  <thead>\n    <tr style=\"text-align: right;\">\n      <th></th>\n      <th>ID</th>\n      <th>X_01</th>\n      <th>X_02</th>\n      <th>X_03</th>\n      <th>X_04</th>\n      <th>X_05</th>\n      <th>X_06</th>\n      <th>X_07</th>\n      <th>X_08</th>\n      <th>X_09</th>\n      <th>...</th>\n      <th>Y_06</th>\n      <th>Y_07</th>\n      <th>Y_08</th>\n      <th>Y_09</th>\n      <th>Y_10</th>\n      <th>Y_11</th>\n      <th>Y_12</th>\n      <th>Y_13</th>\n      <th>Y_14</th>\n      <th>label</th>\n    </tr>\n  </thead>\n  <tbody>\n    <tr>\n      <th>0</th>\n      <td>TRAIN_00001</td>\n      <td>70.544</td>\n      <td>103.320</td>\n      <td>67.47</td>\n      <td>1</td>\n      <td>101.892</td>\n      <td>74.983</td>\n      <td>29.45</td>\n      <td>62.38</td>\n      <td>245.71</td>\n      <td>...</td>\n      <td>16.083</td>\n      <td>4.276</td>\n      <td>-25.381</td>\n      <td>-25.529</td>\n      <td>-22.769</td>\n      <td>23.792</td>\n      <td>-25.470</td>\n      <td>-25.409</td>\n      <td>-25.304</td>\n      <td>1</td>\n    </tr>\n    <tr>\n      <th>1</th>\n      <td>TRAIN_00002</td>\n      <td>69.524</td>\n      <td>103.321</td>\n      <td>65.17</td>\n      <td>1</td>\n      <td>101.944</td>\n      <td>72.943</td>\n      <td>28.73</td>\n      <td>61.23</td>\n      <td>233.61</td>\n      <td>...</td>\n      <td>16.736</td>\n      <td>3.229</td>\n      <td>-26.619</td>\n      <td>-26.523</td>\n      <td>-22.574</td>\n      <td>24.691</td>\n      <td>-26.253</td>\n      <td>-26.497</td>\n      <td>-26.438</td>\n      <td>0</td>\n    </tr>\n    <tr>\n      <th>2</th>\n      <td>TRAIN_00003</td>\n      <td>72.583</td>\n      <td>103.320</td>\n      <td>64.07</td>\n      <td>1</td>\n      <td>103.153</td>\n      <td>72.943</td>\n      <td>28.81</td>\n      <td>105.77</td>\n      <td>272.20</td>\n      <td>...</td>\n      <td>17.080</td>\n      <td>2.839</td>\n      <td>-26.238</td>\n      <td>-26.216</td>\n      <td>-22.169</td>\n      <td>24.649</td>\n      <td>-26.285</td>\n      <td>-26.215</td>\n      <td>-26.370</td>\n      <td>0</td>\n    </tr>\n    <tr>\n      <th>3</th>\n      <td>TRAIN_00004</td>\n      <td>71.563</td>\n      <td>103.320</td>\n      <td>67.57</td>\n      <td>1</td>\n      <td>101.971</td>\n      <td>77.022</td>\n      <td>28.92</td>\n      <td>115.21</td>\n      <td>255.36</td>\n      <td>...</td>\n      <td>17.143</td>\n      <td>3.144</td>\n      <td>-25.426</td>\n      <td>-25.079</td>\n      <td>-21.765</td>\n      <td>24.913</td>\n      <td>-25.254</td>\n      <td>-25.021</td>\n      <td>-25.345</td>\n      <td>0</td>\n    </tr>\n    <tr>\n      <th>4</th>\n      <td>TRAIN_00005</td>\n      <td>69.524</td>\n      <td>103.320</td>\n      <td>63.57</td>\n      <td>1</td>\n      <td>101.981</td>\n      <td>70.904</td>\n      <td>29.68</td>\n      <td>103.38</td>\n      <td>241.46</td>\n      <td>...</td>\n      <td>17.569</td>\n      <td>3.138</td>\n      <td>-25.376</td>\n      <td>-25.242</td>\n      <td>-21.072</td>\n      <td>25.299</td>\n      <td>-25.072</td>\n      <td>-25.195</td>\n      <td>-24.974</td>\n      <td>0</td>\n    </tr>\n  </tbody>\n</table>\n<p>5 rows × 72 columns</p>\n</div>"
     },
     "execution_count": 20,
     "metadata": {},
     "output_type": "execute_result"
    }
   ],
   "source": [
    "data_train.head()"
   ],
   "metadata": {
    "collapsed": false,
    "pycharm": {
     "name": "#%%\n"
    }
   }
  },
  {
   "cell_type": "code",
   "execution_count": 21,
   "outputs": [
    {
     "data": {
      "text/plain": "           ID    X_01     X_02   X_03  X_04     X_05    X_06   X_07    X_08  \\\n0  TEST_00001  68.504  103.321  76.67     1  101.867  73.963  30.51   63.57   \n1  TEST_00002  67.485  103.320  69.37     1  101.992  67.845  28.03  116.99   \n2  TEST_00003  69.524  103.320  68.97     1  101.884  77.022  29.65  205.68   \n3  TEST_00004  69.524  103.320  65.87     1  101.866  73.963  28.15  103.38   \n4  TEST_00005  73.603  103.321  66.67     1  101.891  74.983  29.92   71.20   \n\n     X_09  ...  X_47  X_48      X_49        X_50        X_51        X_52  \\\n0  239.80  ...     1     1  17227.63  138.130429  129.460682  141.506570   \n1  189.23  ...     1     1  17134.53  136.148839  128.266277  145.911745   \n2  214.93  ...     1     1  14860.83  120.447446  119.988804  132.099908   \n3  180.80  ...     1     1  15252.53  133.994695  125.069180  147.507669   \n4  231.93  ...     1     1  10752.23  137.918202  135.116192  138.600473   \n\n         X_53        X_54        X_55        X_56  \n0  133.427229  129.711498  133.138096  121.859684  \n1  131.196417  132.411480  133.629025  124.178623  \n2  120.450155  130.051708  128.252972  114.475628  \n3  123.142653  125.963665  139.666592  126.589253  \n4  127.173033  137.252712  134.411335  124.020016  \n\n[5 rows x 57 columns]",
      "text/html": "<div>\n<style scoped>\n    .dataframe tbody tr th:only-of-type {\n        vertical-align: middle;\n    }\n\n    .dataframe tbody tr th {\n        vertical-align: top;\n    }\n\n    .dataframe thead th {\n        text-align: right;\n    }\n</style>\n<table border=\"1\" class=\"dataframe\">\n  <thead>\n    <tr style=\"text-align: right;\">\n      <th></th>\n      <th>ID</th>\n      <th>X_01</th>\n      <th>X_02</th>\n      <th>X_03</th>\n      <th>X_04</th>\n      <th>X_05</th>\n      <th>X_06</th>\n      <th>X_07</th>\n      <th>X_08</th>\n      <th>X_09</th>\n      <th>...</th>\n      <th>X_47</th>\n      <th>X_48</th>\n      <th>X_49</th>\n      <th>X_50</th>\n      <th>X_51</th>\n      <th>X_52</th>\n      <th>X_53</th>\n      <th>X_54</th>\n      <th>X_55</th>\n      <th>X_56</th>\n    </tr>\n  </thead>\n  <tbody>\n    <tr>\n      <th>0</th>\n      <td>TEST_00001</td>\n      <td>68.504</td>\n      <td>103.321</td>\n      <td>76.67</td>\n      <td>1</td>\n      <td>101.867</td>\n      <td>73.963</td>\n      <td>30.51</td>\n      <td>63.57</td>\n      <td>239.80</td>\n      <td>...</td>\n      <td>1</td>\n      <td>1</td>\n      <td>17227.63</td>\n      <td>138.130429</td>\n      <td>129.460682</td>\n      <td>141.506570</td>\n      <td>133.427229</td>\n      <td>129.711498</td>\n      <td>133.138096</td>\n      <td>121.859684</td>\n    </tr>\n    <tr>\n      <th>1</th>\n      <td>TEST_00002</td>\n      <td>67.485</td>\n      <td>103.320</td>\n      <td>69.37</td>\n      <td>1</td>\n      <td>101.992</td>\n      <td>67.845</td>\n      <td>28.03</td>\n      <td>116.99</td>\n      <td>189.23</td>\n      <td>...</td>\n      <td>1</td>\n      <td>1</td>\n      <td>17134.53</td>\n      <td>136.148839</td>\n      <td>128.266277</td>\n      <td>145.911745</td>\n      <td>131.196417</td>\n      <td>132.411480</td>\n      <td>133.629025</td>\n      <td>124.178623</td>\n    </tr>\n    <tr>\n      <th>2</th>\n      <td>TEST_00003</td>\n      <td>69.524</td>\n      <td>103.320</td>\n      <td>68.97</td>\n      <td>1</td>\n      <td>101.884</td>\n      <td>77.022</td>\n      <td>29.65</td>\n      <td>205.68</td>\n      <td>214.93</td>\n      <td>...</td>\n      <td>1</td>\n      <td>1</td>\n      <td>14860.83</td>\n      <td>120.447446</td>\n      <td>119.988804</td>\n      <td>132.099908</td>\n      <td>120.450155</td>\n      <td>130.051708</td>\n      <td>128.252972</td>\n      <td>114.475628</td>\n    </tr>\n    <tr>\n      <th>3</th>\n      <td>TEST_00004</td>\n      <td>69.524</td>\n      <td>103.320</td>\n      <td>65.87</td>\n      <td>1</td>\n      <td>101.866</td>\n      <td>73.963</td>\n      <td>28.15</td>\n      <td>103.38</td>\n      <td>180.80</td>\n      <td>...</td>\n      <td>1</td>\n      <td>1</td>\n      <td>15252.53</td>\n      <td>133.994695</td>\n      <td>125.069180</td>\n      <td>147.507669</td>\n      <td>123.142653</td>\n      <td>125.963665</td>\n      <td>139.666592</td>\n      <td>126.589253</td>\n    </tr>\n    <tr>\n      <th>4</th>\n      <td>TEST_00005</td>\n      <td>73.603</td>\n      <td>103.321</td>\n      <td>66.67</td>\n      <td>1</td>\n      <td>101.891</td>\n      <td>74.983</td>\n      <td>29.92</td>\n      <td>71.20</td>\n      <td>231.93</td>\n      <td>...</td>\n      <td>1</td>\n      <td>1</td>\n      <td>10752.23</td>\n      <td>137.918202</td>\n      <td>135.116192</td>\n      <td>138.600473</td>\n      <td>127.173033</td>\n      <td>137.252712</td>\n      <td>134.411335</td>\n      <td>124.020016</td>\n    </tr>\n  </tbody>\n</table>\n<p>5 rows × 57 columns</p>\n</div>"
     },
     "execution_count": 21,
     "metadata": {},
     "output_type": "execute_result"
    }
   ],
   "source": [
    "data_test.head()"
   ],
   "metadata": {
    "collapsed": false,
    "pycharm": {
     "name": "#%%\n"
    }
   }
  },
  {
   "cell_type": "code",
   "execution_count": 23,
   "outputs": [
    {
     "data": {
      "text/plain": "<Figure size 800x800 with 1 Axes>",
      "image/png": "[encoded data removed]"
     },
     "metadata": {},
     "output_type": "display_data"
    }
   ],
   "source": [
    "result = [0,0]\n",
    "\n",
    "for i in range(data_train.shape[0]):\n",
    "\n",
    "  if data_train[\"label\"].iloc[i] ==0:\n",
    "    result[0] += 1\n",
    "  else:\n",
    "    result[1] +=1\n",
    "\n",
    "\n",
    "\n",
    "labels = [\"non-anomaly\", \"anomaly\"]\n",
    "\n",
    "result = np.array(result)\n",
    "\n",
    "\n",
    "fig = plt.figure(figsize=(8,8))\n",
    "fig.set_facecolor(\"white\")\n",
    "\n",
    "\n",
    "ax = fig.add_subplot()\n",
    "\n",
    "ax.pie(x = result, labels=labels, autopct= lambda p : '{:.2f}%'.format(p))\n",
    "plt.show()"
   ],
   "metadata": {
    "collapsed": false,
    "pycharm": {
     "name": "#%%\n"
    }
   }
  },
  {
   "cell_type": "code",
   "execution_count": 24,
   "outputs": [],
   "source": [
    "X_drop_list = ['ID', \"label\"]\n",
    "for i in range(1, 15):\n",
    "  i = str(i)\n",
    "  if len(i) == 1:\n",
    "    i = '0'+i\n",
    "  X_drop_list.append(\"Y_\"+i)"
   ],
   "metadata": {
    "collapsed": false,
    "pycharm": {
     "name": "#%%\n"
    }
   }
  },
  {
   "cell_type": "code",
   "execution_count": 25,
   "outputs": [
    {
     "data": {
      "text/plain": "['ID',\n 'label',\n 'Y_01',\n 'Y_02',\n 'Y_03',\n 'Y_04',\n 'Y_05',\n 'Y_06',\n 'Y_07',\n 'Y_08',\n 'Y_09',\n 'Y_10',\n 'Y_11',\n 'Y_12',\n 'Y_13',\n 'Y_14']"
     },
     "execution_count": 25,
     "metadata": {},
     "output_type": "execute_result"
    }
   ],
   "source": [
    "X_drop_list"
   ],
   "metadata": {
    "collapsed": false,
    "pycharm": {
     "name": "#%%\n"
    }
   }
  },
  {
   "cell_type": "code",
   "execution_count": 26,
   "outputs": [],
   "source": [
    "\n",
    "Y_drop_list = ['ID']\n",
    "for i in range(1, 57):\n",
    "  i = str(i)\n",
    "  if len(i) == 1:\n",
    "    i = '0'+i\n",
    "  Y_drop_list.append(\"X_\"+i)\n"
   ],
   "metadata": {
    "collapsed": false,
    "pycharm": {
     "name": "#%%\n"
    }
   }
  },
  {
   "cell_type": "code",
   "execution_count": 27,
   "outputs": [
    {
     "data": {
      "text/plain": "['ID',\n 'X_01',\n 'X_02',\n 'X_03',\n 'X_04',\n 'X_05',\n 'X_06',\n 'X_07',\n 'X_08',\n 'X_09',\n 'X_10',\n 'X_11',\n 'X_12',\n 'X_13',\n 'X_14',\n 'X_15',\n 'X_16',\n 'X_17',\n 'X_18',\n 'X_19',\n 'X_20',\n 'X_21',\n 'X_22',\n 'X_23',\n 'X_24',\n 'X_25',\n 'X_26',\n 'X_27',\n 'X_28',\n 'X_29',\n 'X_30',\n 'X_31',\n 'X_32',\n 'X_33',\n 'X_34',\n 'X_35',\n 'X_36',\n 'X_37',\n 'X_38',\n 'X_39',\n 'X_40',\n 'X_41',\n 'X_42',\n 'X_43',\n 'X_44',\n 'X_45',\n 'X_46',\n 'X_47',\n 'X_48',\n 'X_49',\n 'X_50',\n 'X_51',\n 'X_52',\n 'X_53',\n 'X_54',\n 'X_55',\n 'X_56']"
     },
     "execution_count": 27,
     "metadata": {},
     "output_type": "execute_result"
    }
   ],
   "source": [
    "Y_drop_list"
   ],
   "metadata": {
    "collapsed": false,
    "pycharm": {
     "name": "#%%\n"
    }
   }
  },
  {
   "cell_type": "markdown",
   "source": [],
   "metadata": {
    "collapsed": false,
    "pycharm": {
     "name": "#%% md\n"
    }
   }
  },
  {
   "cell_type": "code",
   "execution_count": 28,
   "outputs": [
    {
     "data": {
      "text/plain": "                ID    X_01     X_02   X_03  X_04     X_05    X_06   X_07  \\\n0      TRAIN_00001  70.544  103.320  67.47     1  101.892  74.983  29.45   \n1      TRAIN_00002  69.524  103.321  65.17     1  101.944  72.943  28.73   \n2      TRAIN_00003  72.583  103.320  64.07     1  103.153  72.943  28.81   \n3      TRAIN_00004  71.563  103.320  67.57     1  101.971  77.022  28.92   \n4      TRAIN_00005  69.524  103.320  63.57     1  101.981  70.904  29.68   \n...            ...     ...      ...    ...   ...      ...     ...    ...   \n39602  TRAIN_39603  66.465  103.320  62.27     1  103.150  66.825  30.20   \n39603  TRAIN_39604  66.465  103.321  62.77     1  102.021  66.825  29.21   \n39604  TRAIN_39605  68.504  103.320  64.67     1  103.144  68.864  29.96   \n39605  TRAIN_39606  66.465  103.320  63.67     1  102.025  67.845  30.30   \n39606  TRAIN_39607  66.465  103.320  65.67     1  102.004  69.884  30.16   \n\n         X_08    X_09  ...    Y_06   Y_07    Y_08    Y_09    Y_10    Y_11  \\\n0       62.38  245.71  ...  16.083  4.276 -25.381 -25.529 -22.769  23.792   \n1       61.23  233.61  ...  16.736  3.229 -26.619 -26.523 -22.574  24.691   \n2      105.77  272.20  ...  17.080  2.839 -26.238 -26.216 -22.169  24.649   \n3      115.21  255.36  ...  17.143  3.144 -25.426 -25.079 -21.765  24.913   \n4      103.38  241.46  ...  17.569  3.138 -25.376 -25.242 -21.072  25.299   \n...       ...     ...  ...     ...    ...     ...     ...     ...     ...   \n39602   77.83  298.05  ...  16.582  3.410 -26.486 -26.581 -22.772  24.261   \n39603  102.25  270.67  ...  15.659  3.406 -27.308 -27.203 -24.674  23.427   \n39604  102.61  198.07  ...  16.823  3.215 -26.502 -26.687 -22.577  24.301   \n39605  112.60  275.52  ...  15.757  4.216 -26.760 -26.634 -24.066  23.305   \n39606  112.90  276.06  ...  16.781  3.307 -26.054 -26.251 -23.257  24.450   \n\n         Y_12    Y_13    Y_14  label  \n0     -25.470 -25.409 -25.304      1  \n1     -26.253 -26.497 -26.438      0  \n2     -26.285 -26.215 -26.370      0  \n3     -25.254 -25.021 -25.345      0  \n4     -25.072 -25.195 -24.974      0  \n...       ...     ...     ...    ...  \n39602 -26.491 -26.584 -26.580      0  \n39603 -27.250 -27.334 -27.325      0  \n39604 -26.388 -26.425 -26.601      0  \n39605 -26.536 -26.751 -26.635      1  \n39606 -26.224 -26.256 -26.093      0  \n\n[39607 rows x 72 columns]",
      "text/html": "<div>\n<style scoped>\n    .dataframe tbody tr th:only-of-type {\n        vertical-align: middle;\n    }\n\n    .dataframe tbody tr th {\n        vertical-align: top;\n    }\n\n    .dataframe thead th {\n        text-align: right;\n    }\n</style>\n<table border=\"1\" class=\"dataframe\">\n  <thead>\n    <tr style=\"text-align: right;\">\n      <th></th>\n      <th>ID</th>\n      <th>X_01</th>\n      <th>X_02</th>\n      <th>X_03</th>\n      <th>X_04</th>\n      <th>X_05</th>\n      <th>X_06</th>\n      <th>X_07</th>\n      <th>X_08</th>\n      <th>X_09</th>\n      <th>...</th>\n      <th>Y_06</th>\n      <th>Y_07</th>\n      <th>Y_08</th>\n      <th>Y_09</th>\n      <th>Y_10</th>\n      <th>Y_11</th>\n      <th>Y_12</th>\n      <th>Y_13</th>\n      <th>Y_14</th>\n      <th>label</th>\n    </tr>\n  </thead>\n  <tbody>\n    <tr>\n      <th>0</th>\n      <td>TRAIN_00001</td>\n      <td>70.544</td>\n      <td>103.320</td>\n      <td>67.47</td>\n      <td>1</td>\n      <td>101.892</td>\n      <td>74.983</td>\n      <td>29.45</td>\n      <td>62.38</td>\n      <td>245.71</td>\n      <td>...</td>\n      <td>16.083</td>\n      <td>4.276</td>\n      <td>-25.381</td>\n      <td>-25.529</td>\n      <td>-22.769</td>\n      <td>23.792</td>\n      <td>-25.470</td>\n      <td>-25.409</td>\n      <td>-25.304</td>\n      <td>1</td>\n    </tr>\n    <tr>\n      <th>1</th>\n      <td>TRAIN_00002</td>\n      <td>69.524</td>\n      <td>103.321</td>\n      <td>65.17</td>\n      <td>1</td>\n      <td>101.944</td>\n      <td>72.943</td>\n      <td>28.73</td>\n      <td>61.23</td>\n      <td>233.61</td>\n      <td>...</td>\n      <td>16.736</td>\n      <td>3.229</td>\n      <td>-26.619</td>\n      <td>-26.523</td>\n      <td>-22.574</td>\n      <td>24.691</td>\n      <td>-26.253</td>\n      <td>-26.497</td>\n      <td>-26.438</td>\n      <td>0</td>\n    </tr>\n    <tr>\n      <th>2</th>\n      <td>TRAIN_00003</td>\n      <td>72.583</td>\n      <td>103.320</td>\n      <td>64.07</td>\n      <td>1</td>\n      <td>103.153</td>\n      <td>72.943</td>\n      <td>28.81</td>\n      <td>105.77</td>\n      <td>272.20</td>\n      <td>...</td>\n      <td>17.080</td>\n      <td>2.839</td>\n      <td>-26.238</td>\n      <td>-26.216</td>\n      <td>-22.169</td>\n      <td>24.649</td>\n      <td>-26.285</td>\n      <td>-26.215</td>\n      <td>-26.370</td>\n      <td>0</td>\n    </tr>\n    <tr>\n      <th>3</th>\n      <td>TRAIN_00004</td>\n      <td>71.563</td>\n      <td>103.320</td>\n      <td>67.57</td>\n      <td>1</td>\n      <td>101.971</td>\n      <td>77.022</td>\n      <td>28.92</td>\n      <td>115.21</td>\n      <td>255.36</td>\n      <td>...</td>\n      <td>17.143</td>\n      <td>3.144</td>\n      <td>-25.426</td>\n      <td>-25.079</td>\n      <td>-21.765</td>\n      <td>24.913</td>\n      <td>-25.254</td>\n      <td>-25.021</td>\n      <td>-25.345</td>\n      <td>0</td>\n    </tr>\n    <tr>\n      <th>4</th>\n      <td>TRAIN_00005</td>\n      <td>69.524</td>\n      <td>103.320</td>\n      <td>63.57</td>\n      <td>1</td>\n      <td>101.981</td>\n      <td>70.904</td>\n      <td>29.68</td>\n      <td>103.38</td>\n      <td>241.46</td>\n      <td>...</td>\n      <td>17.569</td>\n      <td>3.138</td>\n      <td>-25.376</td>\n      <td>-25.242</td>\n      <td>-21.072</td>\n      <td>25.299</td>\n      <td>-25.072</td>\n      <td>-25.195</td>\n      <td>-24.974</td>\n      <td>0</td>\n    </tr>\n    <tr>\n      <th>...</th>\n      <td>...</td>\n      <td>...</td>\n      <td>...</td>\n      <td>...</td>\n      <td>...</td>\n      <td>...</td>\n      <td>...</td>\n      <td>...</td>\n      <td>...</td>\n      <td>...</td>\n      <td>...</td>\n      <td>...</td>\n      <td>...</td>\n      <td>...</td>\n      <td>...</td>\n      <td>...</td>\n      <td>...</td>\n      <td>...</td>\n      <td>...</td>\n      <td>...</td>\n      <td>...</td>\n    </tr>\n    <tr>\n      <th>39602</th>\n      <td>TRAIN_39603</td>\n      <td>66.465</td>\n      <td>103.320</td>\n      <td>62.27</td>\n      <td>1</td>\n      <td>103.150</td>\n      <td>66.825</td>\n      <td>30.20</td>\n      <td>77.83</td>\n      <td>298.05</td>\n      <td>...</td>\n      <td>16.582</td>\n      <td>3.410</td>\n      <td>-26.486</td>\n      <td>-26.581</td>\n      <td>-22.772</td>\n      <td>24.261</td>\n      <td>-26.491</td>\n      <td>-26.584</td>\n      <td>-26.580</td>\n      <td>0</td>\n    </tr>\n    <tr>\n      <th>39603</th>\n      <td>TRAIN_39604</td>\n      <td>66.465</td>\n      <td>103.321</td>\n      <td>62.77</td>\n      <td>1</td>\n      <td>102.021</td>\n      <td>66.825</td>\n      <td>29.21</td>\n      <td>102.25</td>\n      <td>270.67</td>\n      <td>...</td>\n      <td>15.659</td>\n      <td>3.406</td>\n      <td>-27.308</td>\n      <td>-27.203</td>\n      <td>-24.674</td>\n      <td>23.427</td>\n      <td>-27.250</td>\n      <td>-27.334</td>\n      <td>-27.325</td>\n      <td>0</td>\n    </tr>\n    <tr>\n      <th>39604</th>\n      <td>TRAIN_39605</td>\n      <td>68.504</td>\n      <td>103.320</td>\n      <td>64.67</td>\n      <td>1</td>\n      <td>103.144</td>\n      <td>68.864</td>\n      <td>29.96</td>\n      <td>102.61</td>\n      <td>198.07</td>\n      <td>...</td>\n      <td>16.823</td>\n      <td>3.215</td>\n      <td>-26.502</td>\n      <td>-26.687</td>\n      <td>-22.577</td>\n      <td>24.301</td>\n      <td>-26.388</td>\n      <td>-26.425</td>\n      <td>-26.601</td>\n      <td>0</td>\n    </tr>\n    <tr>\n      <th>39605</th>\n      <td>TRAIN_39606</td>\n      <td>66.465</td>\n      <td>103.320</td>\n      <td>63.67</td>\n      <td>1</td>\n      <td>102.025</td>\n      <td>67.845</td>\n      <td>30.30</td>\n      <td>112.60</td>\n      <td>275.52</td>\n      <td>...</td>\n      <td>15.757</td>\n      <td>4.216</td>\n      <td>-26.760</td>\n      <td>-26.634</td>\n      <td>-24.066</td>\n      <td>23.305</td>\n      <td>-26.536</td>\n      <td>-26.751</td>\n      <td>-26.635</td>\n      <td>1</td>\n    </tr>\n    <tr>\n      <th>39606</th>\n      <td>TRAIN_39607</td>\n      <td>66.465</td>\n      <td>103.320</td>\n      <td>65.67</td>\n      <td>1</td>\n      <td>102.004</td>\n      <td>69.884</td>\n      <td>30.16</td>\n      <td>112.90</td>\n      <td>276.06</td>\n      <td>...</td>\n      <td>16.781</td>\n      <td>3.307</td>\n      <td>-26.054</td>\n      <td>-26.251</td>\n      <td>-23.257</td>\n      <td>24.450</td>\n      <td>-26.224</td>\n      <td>-26.256</td>\n      <td>-26.093</td>\n      <td>0</td>\n    </tr>\n  </tbody>\n</table>\n<p>39607 rows × 72 columns</p>\n</div>"
     },
     "execution_count": 28,
     "metadata": {},
     "output_type": "execute_result"
    }
   ],
   "source": [
    "data_train"
   ],
   "metadata": {
    "collapsed": false,
    "pycharm": {
     "name": "#%%\n"
    }
   }
  },
  {
   "cell_type": "code",
   "execution_count": 29,
   "outputs": [],
   "source": [
    "data_train_X = data_train.drop(X_drop_list, axis = 1)\n",
    "data_train_y = data_train.drop(Y_drop_list, axis = 1)\n",
    "data_test = data_test.drop([\"ID\"], axis = 1)\n",
    "\n"
   ],
   "metadata": {
    "collapsed": false,
    "pycharm": {
     "name": "#%%\n"
    }
   }
  },
  {
   "cell_type": "code",
   "execution_count": 30,
   "outputs": [],
   "source": [
    "\n",
    "# 추가 필요없는 x feature drop\n",
    "drop_list = [\"X_04\", \"X_23\", \"X_47\", \"X_48\"]\n",
    "data_train_X = data_train_X.drop(drop_list, axis = 1)\n",
    "data_test = data_test.drop(drop_list, axis = 1)"
   ],
   "metadata": {
    "collapsed": false,
    "pycharm": {
     "name": "#%%\n"
    }
   }
  },
  {
   "cell_type": "code",
   "execution_count": 32,
   "outputs": [
    {
     "data": {
      "text/plain": "Index(['X_01', 'X_02', 'X_03', 'X_05', 'X_06', 'X_07', 'X_08', 'X_09', 'X_10',\n       'X_11', 'X_12', 'X_13', 'X_14', 'X_15', 'X_16', 'X_17', 'X_18', 'X_19',\n       'X_20', 'X_21', 'X_22', 'X_24', 'X_25', 'X_26', 'X_27', 'X_28', 'X_29',\n       'X_30', 'X_31', 'X_32', 'X_33', 'X_34', 'X_35', 'X_36', 'X_37', 'X_38',\n       'X_39', 'X_40', 'X_41', 'X_42', 'X_43', 'X_44', 'X_45', 'X_46', 'X_49',\n       'X_50', 'X_51', 'X_52', 'X_53', 'X_54', 'X_55', 'X_56'],\n      dtype='object')"
     },
     "execution_count": 32,
     "metadata": {},
     "output_type": "execute_result"
    }
   ],
   "source": [
    "data_train_X.columns"
   ],
   "metadata": {
    "collapsed": false,
    "pycharm": {
     "name": "#%%\n"
    }
   }
  },
  {
   "cell_type": "code",
   "execution_count": 33,
   "outputs": [],
   "source": [
    "def get_values(data_df, start_val, end_val, get_std = False):\n",
    "  diff = []\n",
    "  std = []\n",
    "  for i in range(data_df.shape[0]):\n",
    "    vals = []\n",
    "    for s in range(start_val, end_val + 1):\n",
    "      vals.append(data_df[\"X_\"+str(s)].iloc[i])\n",
    "    diff.append(max(vals) - min(vals))\n",
    "    if get_std:\n",
    "      std.append(np.std(vals))\n",
    "  return diff, std"
   ],
   "metadata": {
    "collapsed": false,
    "pycharm": {
     "name": "#%%\n"
    }
   }
  },
  {
   "cell_type": "code",
   "execution_count": 34,
   "outputs": [],
   "source": [
    "def get_sum_values(data_df, val_list):\n",
    "  sums = []\n",
    "  for i in range(data_df.shape[0]):\n",
    "    vals = []\n",
    "    for s in val_list:\n",
    "      vals.append(data_df[\"X_\"+str(s)].iloc[i])\n",
    "    sums.append(sum(vals))\n",
    "  return sums"
   ],
   "metadata": {
    "collapsed": false,
    "pycharm": {
     "name": "#%%\n"
    }
   }
  },
  {
   "cell_type": "code",
   "execution_count": null,
   "outputs": [],
   "source": [
    "### 무게 / 면적\n",
    "data_train_X[\"X_03/X_07\"] = data_train_X[\"X_03\"] / data_train_X[\"X_07\"]\n",
    "data_test[\"X_03/X_07\"] = data_test[\"X_03\"] / data_test[\"X_07\"]"
   ],
   "metadata": {
    "collapsed": false,
    "pycharm": {
     "name": "#%%\n"
    }
   }
  },
  {
   "cell_type": "code",
   "execution_count": 35,
   "outputs": [],
   "source": [
    "### 레이돔 치수 차이 ###\n",
    "diff, std = get_values(data_train_X, 41, 44)"
   ],
   "metadata": {
    "collapsed": false,
    "pycharm": {
     "name": "#%%\n"
    }
   }
  },
  {
   "cell_type": "code",
   "execution_count": 37,
   "outputs": [
    {
     "data": {
      "text/plain": "39607"
     },
     "execution_count": 37,
     "metadata": {},
     "output_type": "execute_result"
    }
   ],
   "source": [
    "len(diff)"
   ],
   "metadata": {
    "collapsed": false,
    "pycharm": {
     "name": "#%%\n"
    }
   }
  },
  {
   "cell_type": "code",
   "execution_count": 39,
   "outputs": [],
   "source": [
    "data_train_X[\"X_41~44-diff\"] = diff"
   ],
   "metadata": {
    "collapsed": false,
    "pycharm": {
     "name": "#%%\n"
    }
   }
  },
  {
   "cell_type": "code",
   "execution_count": 40,
   "outputs": [
    {
     "data": {
      "text/plain": "         X_01     X_02   X_03     X_05    X_06   X_07    X_08    X_09  X_10  \\\n0      70.544  103.320  67.47  101.892  74.983  29.45   62.38  245.71   0.0   \n1      69.524  103.321  65.17  101.944  72.943  28.73   61.23  233.61   0.0   \n2      72.583  103.320  64.07  103.153  72.943  28.81  105.77  272.20   0.0   \n3      71.563  103.320  67.57  101.971  77.022  28.92  115.21  255.36   0.0   \n4      69.524  103.320  63.57  101.981  70.904  29.68  103.38  241.46   0.0   \n...       ...      ...    ...      ...     ...    ...     ...     ...   ...   \n39602  66.465  103.320  62.27  103.150  66.825  30.20   77.83  298.05   0.0   \n39603  66.465  103.321  62.77  102.021  66.825  29.21  102.25  270.67   0.0   \n39604  68.504  103.320  64.67  103.144  68.864  29.96  102.61  198.07   0.0   \n39605  66.465  103.320  63.67  102.025  67.845  30.30  112.60  275.52   0.0   \n39606  66.465  103.320  65.67  102.004  69.884  30.16  112.90  276.06   0.0   \n\n       X_11  ...  X_46      X_49        X_50        X_51        X_52  \\\n0       0.0  ...  1463   9706.03  137.043591  135.359219  147.837968   \n1       0.0  ...  1463  10423.43  133.736691  135.979817  149.924692   \n2       0.0  ...  1468  10948.53  132.805112  131.055355  146.814592   \n3       0.0  ...  1469  15007.03  134.138760  133.239422  139.720132   \n4       0.0  ...  1469  11051.03  142.728970  136.620022  134.853555   \n...     ...  ...   ...       ...         ...         ...         ...   \n39602   0.0  ...  1469  60630.73  129.965741  130.807148  133.481737   \n39603   0.0  ...  1458  60763.43  127.633885  120.158764  142.667802   \n39604   0.0  ...  1459   8813.33  132.501286  136.893025  134.419328   \n39605   0.0  ...  1469  62222.33  128.189679  121.495930  141.288011   \n39606   0.0  ...  1462  62172.23  135.096272  122.988476  142.019357   \n\n             X_53        X_54        X_55        X_56  X_41~44-diff  \n0      134.313475  125.605427  136.721425  125.028256          0.29  \n1      123.630583  127.893337  143.322659  124.877308          0.13  \n2      128.939070  127.012195  140.395688  122.238232          0.14  \n3      132.260824  130.723186  147.624829  134.875225          0.22  \n4      134.760252  125.647793  139.331105  123.272762          0.22  \n...           ...         ...         ...         ...           ...  \n39602  125.273130  121.780933  133.780110  129.029812          0.11  \n39603  122.465490  122.987209  143.090741  122.811413          0.12  \n39604  129.115431  130.920147  140.489232  119.166699          0.13  \n39605  130.141676  125.518825  136.603634  124.525929          0.11  \n39606  123.752157  130.648365  139.695370  136.714504          0.11  \n\n[39607 rows x 53 columns]",
      "text/html": "<div>\n<style scoped>\n    .dataframe tbody tr th:only-of-type {\n        vertical-align: middle;\n    }\n\n    .dataframe tbody tr th {\n        vertical-align: top;\n    }\n\n    .dataframe thead th {\n        text-align: right;\n    }\n</style>\n<table border=\"1\" class=\"dataframe\">\n  <thead>\n    <tr style=\"text-align: right;\">\n      <th></th>\n      <th>X_01</th>\n      <th>X_02</th>\n      <th>X_03</th>\n      <th>X_05</th>\n      <th>X_06</th>\n      <th>X_07</th>\n      <th>X_08</th>\n      <th>X_09</th>\n      <th>X_10</th>\n      <th>X_11</th>\n      <th>...</th>\n      <th>X_46</th>\n      <th>X_49</th>\n      <th>X_50</th>\n      <th>X_51</th>\n      <th>X_52</th>\n      <th>X_53</th>\n      <th>X_54</th>\n      <th>X_55</th>\n      <th>X_56</th>\n      <th>X_41~44-diff</th>\n    </tr>\n  </thead>\n  <tbody>\n    <tr>\n      <th>0</th>\n      <td>70.544</td>\n      <td>103.320</td>\n      <td>67.47</td>\n      <td>101.892</td>\n      <td>74.983</td>\n      <td>29.45</td>\n      <td>62.38</td>\n      <td>245.71</td>\n      <td>0.0</td>\n      <td>0.0</td>\n      <td>...</td>\n      <td>1463</td>\n      <td>9706.03</td>\n      <td>137.043591</td>\n      <td>135.359219</td>\n      <td>147.837968</td>\n      <td>134.313475</td>\n      <td>125.605427</td>\n      <td>136.721425</td>\n      <td>125.028256</td>\n      <td>0.29</td>\n    </tr>\n    <tr>\n      <th>1</th>\n      <td>69.524</td>\n      <td>103.321</td>\n      <td>65.17</td>\n      <td>101.944</td>\n      <td>72.943</td>\n      <td>28.73</td>\n      <td>61.23</td>\n      <td>233.61</td>\n      <td>0.0</td>\n      <td>0.0</td>\n      <td>...</td>\n      <td>1463</td>\n      <td>10423.43</td>\n      <td>133.736691</td>\n      <td>135.979817</td>\n      <td>149.924692</td>\n      <td>123.630583</td>\n      <td>127.893337</td>\n      <td>143.322659</td>\n      <td>124.877308</td>\n      <td>0.13</td>\n    </tr>\n    <tr>\n      <th>2</th>\n      <td>72.583</td>\n      <td>103.320</td>\n      <td>64.07</td>\n      <td>103.153</td>\n      <td>72.943</td>\n      <td>28.81</td>\n      <td>105.77</td>\n      <td>272.20</td>\n      <td>0.0</td>\n      <td>0.0</td>\n      <td>...</td>\n      <td>1468</td>\n      <td>10948.53</td>\n      <td>132.805112</td>\n      <td>131.055355</td>\n      <td>146.814592</td>\n      <td>128.939070</td>\n      <td>127.012195</td>\n      <td>140.395688</td>\n      <td>122.238232</td>\n      <td>0.14</td>\n    </tr>\n    <tr>\n      <th>3</th>\n      <td>71.563</td>\n      <td>103.320</td>\n      <td>67.57</td>\n      <td>101.971</td>\n      <td>77.022</td>\n      <td>28.92</td>\n      <td>115.21</td>\n      <td>255.36</td>\n      <td>0.0</td>\n      <td>0.0</td>\n      <td>...</td>\n      <td>1469</td>\n      <td>15007.03</td>\n      <td>134.138760</td>\n      <td>133.239422</td>\n      <td>139.720132</td>\n      <td>132.260824</td>\n      <td>130.723186</td>\n      <td>147.624829</td>\n      <td>134.875225</td>\n      <td>0.22</td>\n    </tr>\n    <tr>\n      <th>4</th>\n      <td>69.524</td>\n      <td>103.320</td>\n      <td>63.57</td>\n      <td>101.981</td>\n      <td>70.904</td>\n      <td>29.68</td>\n      <td>103.38</td>\n      <td>241.46</td>\n      <td>0.0</td>\n      <td>0.0</td>\n      <td>...</td>\n      <td>1469</td>\n      <td>11051.03</td>\n      <td>142.728970</td>\n      <td>136.620022</td>\n      <td>134.853555</td>\n      <td>134.760252</td>\n      <td>125.647793</td>\n      <td>139.331105</td>\n      <td>123.272762</td>\n      <td>0.22</td>\n    </tr>\n    <tr>\n      <th>...</th>\n      <td>...</td>\n      <td>...</td>\n      <td>...</td>\n      <td>...</td>\n      <td>...</td>\n      <td>...</td>\n      <td>...</td>\n      <td>...</td>\n      <td>...</td>\n      <td>...</td>\n      <td>...</td>\n      <td>...</td>\n      <td>...</td>\n      <td>...</td>\n      <td>...</td>\n      <td>...</td>\n      <td>...</td>\n      <td>...</td>\n      <td>...</td>\n      <td>...</td>\n      <td>...</td>\n    </tr>\n    <tr>\n      <th>39602</th>\n      <td>66.465</td>\n      <td>103.320</td>\n      <td>62.27</td>\n      <td>103.150</td>\n      <td>66.825</td>\n      <td>30.20</td>\n      <td>77.83</td>\n      <td>298.05</td>\n      <td>0.0</td>\n      <td>0.0</td>\n      <td>...</td>\n      <td>1469</td>\n      <td>60630.73</td>\n      <td>129.965741</td>\n      <td>130.807148</td>\n      <td>133.481737</td>\n      <td>125.273130</td>\n      <td>121.780933</td>\n      <td>133.780110</td>\n      <td>129.029812</td>\n      <td>0.11</td>\n    </tr>\n    <tr>\n      <th>39603</th>\n      <td>66.465</td>\n      <td>103.321</td>\n      <td>62.77</td>\n      <td>102.021</td>\n      <td>66.825</td>\n      <td>29.21</td>\n      <td>102.25</td>\n      <td>270.67</td>\n      <td>0.0</td>\n      <td>0.0</td>\n      <td>...</td>\n      <td>1458</td>\n      <td>60763.43</td>\n      <td>127.633885</td>\n      <td>120.158764</td>\n      <td>142.667802</td>\n      <td>122.465490</td>\n      <td>122.987209</td>\n      <td>143.090741</td>\n      <td>122.811413</td>\n      <td>0.12</td>\n    </tr>\n    <tr>\n      <th>39604</th>\n      <td>68.504</td>\n      <td>103.320</td>\n      <td>64.67</td>\n      <td>103.144</td>\n      <td>68.864</td>\n      <td>29.96</td>\n      <td>102.61</td>\n      <td>198.07</td>\n      <td>0.0</td>\n      <td>0.0</td>\n      <td>...</td>\n      <td>1459</td>\n      <td>8813.33</td>\n      <td>132.501286</td>\n      <td>136.893025</td>\n      <td>134.419328</td>\n      <td>129.115431</td>\n      <td>130.920147</td>\n      <td>140.489232</td>\n      <td>119.166699</td>\n      <td>0.13</td>\n    </tr>\n    <tr>\n      <th>39605</th>\n      <td>66.465</td>\n      <td>103.320</td>\n      <td>63.67</td>\n      <td>102.025</td>\n      <td>67.845</td>\n      <td>30.30</td>\n      <td>112.60</td>\n      <td>275.52</td>\n      <td>0.0</td>\n      <td>0.0</td>\n      <td>...</td>\n      <td>1469</td>\n      <td>62222.33</td>\n      <td>128.189679</td>\n      <td>121.495930</td>\n      <td>141.288011</td>\n      <td>130.141676</td>\n      <td>125.518825</td>\n      <td>136.603634</td>\n      <td>124.525929</td>\n      <td>0.11</td>\n    </tr>\n    <tr>\n      <th>39606</th>\n      <td>66.465</td>\n      <td>103.320</td>\n      <td>65.67</td>\n      <td>102.004</td>\n      <td>69.884</td>\n      <td>30.16</td>\n      <td>112.90</td>\n      <td>276.06</td>\n      <td>0.0</td>\n      <td>0.0</td>\n      <td>...</td>\n      <td>1462</td>\n      <td>62172.23</td>\n      <td>135.096272</td>\n      <td>122.988476</td>\n      <td>142.019357</td>\n      <td>123.752157</td>\n      <td>130.648365</td>\n      <td>139.695370</td>\n      <td>136.714504</td>\n      <td>0.11</td>\n    </tr>\n  </tbody>\n</table>\n<p>39607 rows × 53 columns</p>\n</div>"
     },
     "execution_count": 40,
     "metadata": {},
     "output_type": "execute_result"
    }
   ],
   "source": [
    "data_train_X"
   ],
   "metadata": {
    "collapsed": false,
    "pycharm": {
     "name": "#%%\n"
    }
   }
  },
  {
   "cell_type": "code",
   "execution_count": 41,
   "outputs": [],
   "source": [
    "diff, std = get_values(data_test, 41, 44)\n",
    "data_test[\"X_41~44-diff\"] = diff"
   ],
   "metadata": {
    "collapsed": false,
    "pycharm": {
     "name": "#%%\n"
    }
   }
  },
  {
   "cell_type": "code",
   "execution_count": 42,
   "outputs": [],
   "source": [
    "### 1~4 단계별 누름량 합산 ###\n",
    "sums = get_sum_values(data_train_X, [\"01\", \"02\", \"05\", \"06\"])\n",
    "data_train_X[\"X_1~6_push-sum\"] = sums\n",
    "sums = get_sum_values(data_test, [\"01\", \"02\", \"05\", \"06\"])\n",
    "data_test[\"X_1~6_push-sum\"] = sums"
   ],
   "metadata": {
    "collapsed": false,
    "pycharm": {
     "name": "#%%\n"
    }
   }
  },
  {
   "cell_type": "code",
   "execution_count": null,
   "outputs": [],
   "source": [
    "# 그냥 이정도의 feature 만 생성하고 모델 여러개 만들어서 ensemble 해서 결과제출\n"
   ],
   "metadata": {
    "collapsed": false,
    "pycharm": {
     "name": "#%%\n"
    }
   }
  },
  {
   "cell_type": "code",
   "execution_count": 44,
   "outputs": [],
   "source": [
    "### 방열 재료 면적 합산 ###\n",
    "sums = get_sum_values(data_train_X, [\"07\", \"08\", \"09\"])\n",
    "data_train_X[\"X_7~9_area-sum\"] = sums\n",
    "sums = get_sum_values(data_test, [\"07\", \"08\", \"09\"])\n",
    "data_test[\"X_7~9_area-sum\"] = sums\n",
    "\n",
    "### 스크류 삽입 깊이가 재질과 관련?\n",
    "data_train_X[\"X_03/X_19~22\"] = data_train_X[\"X_03\"]/(data_train_X[\"X_19\"]+data_train_X[\"X_20\"]+data_train_X[\"X_21\"]+data_train_X[\"X_22\"])\n",
    "data_test[\"X_03/X_19~22\"] = data_test[\"X_03\"]/(data_test[\"X_19\"]+data_test[\"X_20\"]+data_test[\"X_21\"]+data_test[\"X_22\"])\n",
    "\n",
    "# 커넥터 위치 좌표와 커넥터핀 치수 관계\n",
    "data_train_X[\"X_12/X_24~25\"] = data_train_X[\"X_12\"] / ((data_train_X[\"X_24\"]+data_train_X[\"X_25\"])/2)\n",
    "data_test[\"X_12/X_24~25\"] = data_test[\"X_12\"] / ((data_test[\"X_24\"]+data_test[\"X_25\"])/2)\n",
    "\n",
    "#importance 높은 데이터 조합\n",
    "data_train_X[\"49_7_19_3_8\"] = data_train_X[\"X_49\"] / data_train_X[\"X_49\"].mean()+data_train_X[\"X_07\"] / data_train_X[\"X_07\"].mean()+data_train_X[\"X_19\"] / data_train_X[\"X_19\"].mean()+data_train_X[\"X_03\"] / data_train_X[\"X_03\"].mean()\n",
    "data_test[\"49_7_19_3_8\"] = data_test[\"X_49\"] / data_train_X[\"X_49\"].mean()+data_test[\"X_07\"] / data_train_X[\"X_07\"].mean()+data_test[\"X_19\"] / data_train_X[\"X_19\"].mean()+data_test[\"X_03\"] / data_train_X[\"X_03\"].mean()"
   ],
   "metadata": {
    "collapsed": false,
    "pycharm": {
     "name": "#%%\n"
    }
   }
  },
  {
   "cell_type": "code",
   "execution_count": 45,
   "outputs": [
    {
     "data": {
      "text/plain": "    Y_01   Y_02   Y_03    Y_04    Y_05    Y_06   Y_07    Y_08    Y_09    Y_10  \\\n0  2.056  1.456  1.680  10.502  29.632  16.083  4.276 -25.381 -25.529 -22.769   \n1  1.446  1.184  1.268  18.507  33.179  16.736  3.229 -26.619 -26.523 -22.574   \n2  1.251  0.665  0.782  14.082  31.801  17.080  2.839 -26.238 -26.216 -22.169   \n3  1.464  1.079  1.052  16.975  34.503  17.143  3.144 -25.426 -25.079 -21.765   \n4  0.983  0.646  0.689  15.047  32.602  17.569  3.138 -25.376 -25.242 -21.072   \n\n     Y_11    Y_12    Y_13    Y_14  label  \n0  23.792 -25.470 -25.409 -25.304      1  \n1  24.691 -26.253 -26.497 -26.438      0  \n2  24.649 -26.285 -26.215 -26.370      0  \n3  24.913 -25.254 -25.021 -25.345      0  \n4  25.299 -25.072 -25.195 -24.974      0  ",
      "text/html": "<div>\n<style scoped>\n    .dataframe tbody tr th:only-of-type {\n        vertical-align: middle;\n    }\n\n    .dataframe tbody tr th {\n        vertical-align: top;\n    }\n\n    .dataframe thead th {\n        text-align: right;\n    }\n</style>\n<table border=\"1\" class=\"dataframe\">\n  <thead>\n    <tr style=\"text-align: right;\">\n      <th></th>\n      <th>Y_01</th>\n      <th>Y_02</th>\n      <th>Y_03</th>\n      <th>Y_04</th>\n      <th>Y_05</th>\n      <th>Y_06</th>\n      <th>Y_07</th>\n      <th>Y_08</th>\n      <th>Y_09</th>\n      <th>Y_10</th>\n      <th>Y_11</th>\n      <th>Y_12</th>\n      <th>Y_13</th>\n      <th>Y_14</th>\n      <th>label</th>\n    </tr>\n  </thead>\n  <tbody>\n    <tr>\n      <th>0</th>\n      <td>2.056</td>\n      <td>1.456</td>\n      <td>1.680</td>\n      <td>10.502</td>\n      <td>29.632</td>\n      <td>16.083</td>\n      <td>4.276</td>\n      <td>-25.381</td>\n      <td>-25.529</td>\n      <td>-22.769</td>\n      <td>23.792</td>\n      <td>-25.470</td>\n      <td>-25.409</td>\n      <td>-25.304</td>\n      <td>1</td>\n    </tr>\n    <tr>\n      <th>1</th>\n      <td>1.446</td>\n      <td>1.184</td>\n      <td>1.268</td>\n      <td>18.507</td>\n      <td>33.179</td>\n      <td>16.736</td>\n      <td>3.229</td>\n      <td>-26.619</td>\n      <td>-26.523</td>\n      <td>-22.574</td>\n      <td>24.691</td>\n      <td>-26.253</td>\n      <td>-26.497</td>\n      <td>-26.438</td>\n      <td>0</td>\n    </tr>\n    <tr>\n      <th>2</th>\n      <td>1.251</td>\n      <td>0.665</td>\n      <td>0.782</td>\n      <td>14.082</td>\n      <td>31.801</td>\n      <td>17.080</td>\n      <td>2.839</td>\n      <td>-26.238</td>\n      <td>-26.216</td>\n      <td>-22.169</td>\n      <td>24.649</td>\n      <td>-26.285</td>\n      <td>-26.215</td>\n      <td>-26.370</td>\n      <td>0</td>\n    </tr>\n    <tr>\n      <th>3</th>\n      <td>1.464</td>\n      <td>1.079</td>\n      <td>1.052</td>\n      <td>16.975</td>\n      <td>34.503</td>\n      <td>17.143</td>\n      <td>3.144</td>\n      <td>-25.426</td>\n      <td>-25.079</td>\n      <td>-21.765</td>\n      <td>24.913</td>\n      <td>-25.254</td>\n      <td>-25.021</td>\n      <td>-25.345</td>\n      <td>0</td>\n    </tr>\n    <tr>\n      <th>4</th>\n      <td>0.983</td>\n      <td>0.646</td>\n      <td>0.689</td>\n      <td>15.047</td>\n      <td>32.602</td>\n      <td>17.569</td>\n      <td>3.138</td>\n      <td>-25.376</td>\n      <td>-25.242</td>\n      <td>-21.072</td>\n      <td>25.299</td>\n      <td>-25.072</td>\n      <td>-25.195</td>\n      <td>-24.974</td>\n      <td>0</td>\n    </tr>\n  </tbody>\n</table>\n</div>"
     },
     "execution_count": 45,
     "metadata": {},
     "output_type": "execute_result"
    }
   ],
   "source": [
    "data_train_y.head()"
   ],
   "metadata": {
    "collapsed": false,
    "pycharm": {
     "name": "#%%\n"
    }
   }
  },
  {
   "cell_type": "code",
   "execution_count": 47,
   "outputs": [
    {
     "name": "stderr",
     "output_type": "stream",
     "text": [
      "c:\\users\\data\\appdata\\local\\programs\\python\\python38\\lib\\site-packages\\requests\\__init__.py:102: RequestsDependencyWarning: urllib3 (1.26.8) or chardet (5.0.0)/charset_normalizer (2.0.11) doesn't match a supported version!\n",
      "  warnings.warn(\"urllib3 ({}) or chardet ({})/charset_normalizer ({}) doesn't match a supported \"\n"
     ]
    }
   ],
   "source": [
    "from sklearn.metrics import mean_squared_error\n",
    "import tensorflow as tf\n",
    "tf.random.set_seed(42)\n",
    "\n",
    "\n",
    "# 평가산식\n",
    "def lg_nrmse(gt, preds):\n",
    "    # 각 Y Feature별 NRMSE 총합\n",
    "    # Y_01 ~ Y_08 까지 20% 가중치 부여\n",
    "    all_nrmse = []\n",
    "    for idx in range(14): # ignore 'ID'\n",
    "        rmse = mean_squared_error(gt[:,idx], preds[:,idx], squared=False)\n",
    "        nrmse = rmse/np.mean(np.abs(gt[:,idx]))\n",
    "        all_nrmse.append(nrmse)\n",
    "    score = 1.2 * np.sum(all_nrmse[:7]) + 1.0 * np.sum(all_nrmse[7:14])\n",
    "    return score"
   ],
   "metadata": {
    "collapsed": false,
    "pycharm": {
     "name": "#%%\n"
    }
   }
  },
  {
   "cell_type": "code",
   "execution_count": 46,
   "outputs": [
    {
     "name": "stdout",
     "output_type": "stream",
     "text": [
      "Requirement already satisfied: catboost in c:\\users\\data\\appdata\\local\\programs\\python\\python38\\lib\\site-packages (1.0.6)\n",
      "Requirement already satisfied: scipy in c:\\users\\data\\appdata\\local\\programs\\python\\python38\\lib\\site-packages (from catboost) (1.7.3)\n",
      "Requirement already satisfied: matplotlib in c:\\users\\data\\appdata\\local\\programs\\python\\python38\\lib\\site-packages (from catboost) (3.5.1)\n",
      "Requirement already satisfied: pandas>=0.24.0 in c:\\users\\data\\appdata\\local\\programs\\python\\python38\\lib\\site-packages (from catboost) (1.4.0)\n",
      "Requirement already satisfied: plotly in c:\\users\\data\\appdata\\local\\programs\\python\\python38\\lib\\site-packages (from catboost) (5.10.0)\n",
      "Requirement already satisfied: graphviz in c:\\users\\data\\appdata\\local\\programs\\python\\python38\\lib\\site-packages (from catboost) (0.20.1)\n",
      "Requirement already satisfied: numpy>=1.16.0 in c:\\users\\data\\appdata\\local\\programs\\python\\python38\\lib\\site-packages (from catboost) (1.22.1)\n",
      "Requirement already satisfied: six in c:\\users\\data\\appdata\\local\\programs\\python\\python38\\lib\\site-packages (from catboost) (1.16.0)\n",
      "Requirement already satisfied: pytz>=2020.1 in c:\\users\\data\\appdata\\local\\programs\\python\\python38\\lib\\site-packages (from pandas>=0.24.0->catboost) (2021.3)\n",
      "Requirement already satisfied: python-dateutil>=2.8.1 in c:\\users\\data\\appdata\\local\\programs\\python\\python38\\lib\\site-packages (from pandas>=0.24.0->catboost) (2.8.2)\n",
      "Requirement already satisfied: pillow>=6.2.0 in c:\\users\\data\\appdata\\local\\programs\\python\\python38\\lib\\site-packages (from matplotlib->catboost) (9.0.0)\n",
      "Requirement already satisfied: pyparsing>=2.2.1 in c:\\users\\data\\appdata\\local\\programs\\python\\python38\\lib\\site-packages (from matplotlib->catboost) (3.0.7)\n",
      "Requirement already satisfied: packaging>=20.0 in c:\\users\\data\\appdata\\local\\programs\\python\\python38\\lib\\site-packages (from matplotlib->catboost) (21.3)\n",
      "Requirement already satisfied: fonttools>=4.22.0 in c:\\users\\data\\appdata\\local\\programs\\python\\python38\\lib\\site-packages (from matplotlib->catboost) (4.29.1)\n",
      "Requirement already satisfied: kiwisolver>=1.0.1 in c:\\users\\data\\appdata\\local\\programs\\python\\python38\\lib\\site-packages (from matplotlib->catboost) (1.3.2)\n",
      "Requirement already satisfied: cycler>=0.10 in c:\\users\\data\\appdata\\local\\programs\\python\\python38\\lib\\site-packages (from matplotlib->catboost) (0.11.0)\n",
      "Requirement already satisfied: tenacity>=6.2.0 in c:\\users\\data\\appdata\\local\\programs\\python\\python38\\lib\\site-packages (from plotly->catboost) (8.0.1)\n"
     ]
    },
    {
     "name": "stderr",
     "output_type": "stream",
     "text": [
      "WARNING: Ignoring invalid distribution -illow (c:\\users\\data\\appdata\\local\\programs\\python\\python38\\lib\\site-packages)\n",
      "WARNING: Ignoring invalid distribution -illow (c:\\users\\data\\appdata\\local\\programs\\python\\python38\\lib\\site-packages)\n",
      "WARNING: Ignoring invalid distribution -illow (c:\\users\\data\\appdata\\local\\programs\\python\\python38\\lib\\site-packages)\n",
      "WARNING: Ignoring invalid distribution -illow (c:\\users\\data\\appdata\\local\\programs\\python\\python38\\lib\\site-packages)\n",
      "WARNING: Ignoring invalid distribution -illow (c:\\users\\data\\appdata\\local\\programs\\python\\python38\\lib\\site-packages)\n",
      "WARNING: Ignoring invalid distribution -illow (c:\\users\\data\\appdata\\local\\programs\\python\\python38\\lib\\site-packages)\n"
     ]
    }
   ],
   "source": [
    "!pip install catboost"
   ],
   "metadata": {
    "collapsed": false,
    "pycharm": {
     "name": "#%%\n"
    }
   }
  },
  {
   "cell_type": "code",
   "execution_count": 48,
   "outputs": [
    {
     "name": "stdout",
     "output_type": "stream",
     "text": [
      "Collecting lightgbm==2.2.3\n",
      "  Downloading lightgbm-2.2.3-py2.py3-none-win_amd64.whl (515 kB)\n",
      "     ------------------------------------- 515.9/515.9 kB 31.6 MB/s eta 0:00:00\n",
      "Requirement already satisfied: scipy in c:\\users\\data\\appdata\\local\\programs\\python\\python38\\lib\\site-packages (from lightgbm==2.2.3) (1.7.3)\n",
      "Requirement already satisfied: numpy in c:\\users\\data\\appdata\\local\\programs\\python\\python38\\lib\\site-packages (from lightgbm==2.2.3) (1.22.1)\n",
      "Requirement already satisfied: scikit-learn in c:\\users\\data\\appdata\\local\\programs\\python\\python38\\lib\\site-packages (from lightgbm==2.2.3) (1.0.2)\n",
      "Requirement already satisfied: joblib>=0.11 in c:\\users\\data\\appdata\\local\\programs\\python\\python38\\lib\\site-packages (from scikit-learn->lightgbm==2.2.3) (1.1.0)\n",
      "Requirement already satisfied: threadpoolctl>=2.0.0 in c:\\users\\data\\appdata\\local\\programs\\python\\python38\\lib\\site-packages (from scikit-learn->lightgbm==2.2.3) (3.1.0)\n",
      "Installing collected packages: lightgbm\n",
      "  Attempting uninstall: lightgbm\n",
      "    Found existing installation: lightgbm 3.3.2\n",
      "    Uninstalling lightgbm-3.3.2:\n",
      "      Successfully uninstalled lightgbm-3.3.2\n",
      "Successfully installed lightgbm-2.2.3\n"
     ]
    },
    {
     "name": "stderr",
     "output_type": "stream",
     "text": [
      "WARNING: Ignoring invalid distribution -illow (c:\\users\\data\\appdata\\local\\programs\\python\\python38\\lib\\site-packages)\n",
      "WARNING: Ignoring invalid distribution -illow (c:\\users\\data\\appdata\\local\\programs\\python\\python38\\lib\\site-packages)\n",
      "WARNING: Ignoring invalid distribution -illow (c:\\users\\data\\appdata\\local\\programs\\python\\python38\\lib\\site-packages)\n",
      "    WARNING: Ignoring invalid distribution -illow (c:\\users\\data\\appdata\\local\\programs\\python\\python38\\lib\\site-packages)\n",
      "WARNING: Ignoring invalid distribution -illow (c:\\users\\data\\appdata\\local\\programs\\python\\python38\\lib\\site-packages)\n",
      "WARNING: Ignoring invalid distribution -illow (c:\\users\\data\\appdata\\local\\programs\\python\\python38\\lib\\site-packages)\n",
      "WARNING: Ignoring invalid distribution -illow (c:\\users\\data\\appdata\\local\\programs\\python\\python38\\lib\\site-packages)\n",
      "WARNING: Ignoring invalid distribution -illow (c:\\users\\data\\appdata\\local\\programs\\python\\python38\\lib\\site-packages)\n"
     ]
    }
   ],
   "source": [
    "#lightgbm-3.3.2\n",
    "!pip install lightgbm==2.2.3"
   ],
   "metadata": {
    "collapsed": false,
    "pycharm": {
     "name": "#%%\n"
    }
   }
  },
  {
   "cell_type": "code",
   "execution_count": 53,
   "outputs": [
    {
     "name": "stdout",
     "output_type": "stream",
     "text": [
      "Collecting xgboost==1.3.2\n"
     ]
    },
    {
     "name": "stderr",
     "output_type": "stream",
     "text": [
      "WARNING: Ignoring invalid distribution -illow (c:\\users\\data\\appdata\\local\\programs\\python\\python38\\lib\\site-packages)\n",
      "WARNING: Ignoring invalid distribution -illow (c:\\users\\data\\appdata\\local\\programs\\python\\python38\\lib\\site-packages)\n",
      "  WARNING: Retrying (Retry(total=4, connect=None, read=None, redirect=None, status=None)) after connection broken by 'ReadTimeoutError(\"HTTPSConnectionPool(host='files.pythonhosted.org', port=443): Read timed out. (read timeout=15)\")': /packages/62/ff/e0c9ffb5c46ee6166bb03b4f4eacc515d34a3aab38dec4d731a54328fc85/xgboost-1.3.2-py3-none-win_amd64.whl\n",
      "  WARNING: Retrying (Retry(total=3, connect=None, read=None, redirect=None, status=None)) after connection broken by 'ReadTimeoutError(\"HTTPSConnectionPool(host='files.pythonhosted.org', port=443): Read timed out. (read timeout=15)\")': /packages/62/ff/e0c9ffb5c46ee6166bb03b4f4eacc515d34a3aab38dec4d731a54328fc85/xgboost-1.3.2-py3-none-win_amd64.whl\n",
      "  WARNING: Retrying (Retry(total=2, connect=None, read=None, redirect=None, status=None)) after connection broken by 'ReadTimeoutError(\"HTTPSConnectionPool(host='files.pythonhosted.org', port=443): Read timed out. (read timeout=15)\")': /packages/62/ff/e0c9ffb5c46ee6166bb03b4f4eacc515d34a3aab38dec4d731a54328fc85/xgboost-1.3.2-py3-none-win_amd64.whl\n",
      "  WARNING: Retrying (Retry(total=1, connect=None, read=None, redirect=None, status=None)) after connection broken by 'ReadTimeoutError(\"HTTPSConnectionPool(host='files.pythonhosted.org', port=443): Read timed out. (read timeout=15)\")': /packages/62/ff/e0c9ffb5c46ee6166bb03b4f4eacc515d34a3aab38dec4d731a54328fc85/xgboost-1.3.2-py3-none-win_amd64.whl\n",
      "  WARNING: Retrying (Retry(total=0, connect=None, read=None, redirect=None, status=None)) after connection broken by 'ReadTimeoutError(\"HTTPSConnectionPool(host='files.pythonhosted.org', port=443): Read timed out. (read timeout=15)\")': /packages/62/ff/e0c9ffb5c46ee6166bb03b4f4eacc515d34a3aab38dec4d731a54328fc85/xgboost-1.3.2-py3-none-win_amd64.whl\n",
      "ERROR: Could not install packages due to an OSError: HTTPSConnectionPool(host='files.pythonhosted.org', port=443): Max retries exceeded with url: /packages/62/ff/e0c9ffb5c46ee6166bb03b4f4eacc515d34a3aab38dec4d731a54328fc85/xgboost-1.3.2-py3-none-win_amd64.whl (Caused by ReadTimeoutError(\"HTTPSConnectionPool(host='files.pythonhosted.org', port=443): Read timed out. (read timeout=15)\"))\n",
      "\n",
      "WARNING: Ignoring invalid distribution -illow (c:\\users\\data\\appdata\\local\\programs\\python\\python38\\lib\\site-packages)\n",
      "WARNING: Ignoring invalid distribution -illow (c:\\users\\data\\appdata\\local\\programs\\python\\python38\\lib\\site-packages)\n",
      "WARNING: Ignoring invalid distribution -illow (c:\\users\\data\\appdata\\local\\programs\\python\\python38\\lib\\site-packages)\n"
     ]
    },
    {
     "name": "stdout",
     "output_type": "stream",
     "text": [
      "Collecting xgboost==1.2\n",
      "  Downloading xgboost-1.2.0-py3-none-win_amd64.whl (86.5 MB)\n",
      "     --------------------------------------- 86.5/86.5 MB 31.2 MB/s eta 0:00:00\n",
      "Requirement already satisfied: numpy in c:\\users\\data\\appdata\\local\\programs\\python\\python38\\lib\\site-packages (from xgboost==1.2) (1.22.1)\n",
      "Requirement already satisfied: scipy in c:\\users\\data\\appdata\\local\\programs\\python\\python38\\lib\\site-packages (from xgboost==1.2) (1.7.3)\n",
      "Installing collected packages: xgboost\n",
      "  Attempting uninstall: xgboost\n",
      "    Found existing installation: xgboost 0.90\n",
      "    Uninstalling xgboost-0.90:\n",
      "      Successfully uninstalled xgboost-0.90\n",
      "Successfully installed xgboost-1.2.0\n"
     ]
    },
    {
     "name": "stderr",
     "output_type": "stream",
     "text": [
      "WARNING: Ignoring invalid distribution -illow (c:\\users\\data\\appdata\\local\\programs\\python\\python38\\lib\\site-packages)\n",
      "WARNING: Ignoring invalid distribution -illow (c:\\users\\data\\appdata\\local\\programs\\python\\python38\\lib\\site-packages)\n",
      "WARNING: Ignoring invalid distribution -illow (c:\\users\\data\\appdata\\local\\programs\\python\\python38\\lib\\site-packages)\n",
      "    WARNING: Ignoring invalid distribution -illow (c:\\users\\data\\appdata\\local\\programs\\python\\python38\\lib\\site-packages)\n",
      "WARNING: Ignoring invalid distribution -illow (c:\\users\\data\\appdata\\local\\programs\\python\\python38\\lib\\site-packages)\n",
      "WARNING: Ignoring invalid distribution -illow (c:\\users\\data\\appdata\\local\\programs\\python\\python38\\lib\\site-packages)\n",
      "WARNING: Ignoring invalid distribution -illow (c:\\users\\data\\appdata\\local\\programs\\python\\python38\\lib\\site-packages)\n",
      "WARNING: Ignoring invalid distribution -illow (c:\\users\\data\\appdata\\local\\programs\\python\\python38\\lib\\site-packages)\n"
     ]
    }
   ],
   "source": [
    "#origin xgboost 1.3.2\n",
    "!pip install xgboost==0.9.0"
   ],
   "metadata": {
    "collapsed": false,
    "pycharm": {
     "name": "#%%\n"
    }
   }
  },
  {
   "cell_type": "code",
   "execution_count": null,
   "outputs": [],
   "source": [
    "# https://koreapy.tistory.com/941\n",
    "# multioutputregressor 에 특정 알고리즘을 넣고 그리드서치하는법까지\n",
    "from sklearn.utils.validation import _check_fit_params\n",
    "from sklearn.base import is_classifier\n",
    "from sklearn.utils.fixes import delayed\n",
    "from joblib import Parallel\n",
    "from sklearn.multioutput import _fit_estimator\n",
    "from sklearn.multioutput import MultiOutputRegressor\n",
    "import lightgbm\n",
    "\n",
    "class MyMultiOutputRegressor_LGBM(MultiOutputRegressor):\n",
    "\n",
    "    def fit(self, X, y, sample_weight=None, **fit_params):\n",
    "        \"\"\" Fit the model to data.\n",
    "        Fit a separate model for each output variable.\n",
    "        Parameters\n",
    "        ----------\n",
    "        X : {array-like, sparse matrix} of shape (n_samples, n_features)\n",
    "            Data.\n",
    "        y : {array-like, sparse matrix} of shape (n_samples, n_outputs)\n",
    "            Multi-output targets. An indicator matrix turns on multilabel\n",
    "            estimation.\n",
    "        sample_weight : array-like of shape (n_samples,), default=None\n",
    "            Sample weights. If None, then samples are equally weighted.\n",
    "            Only supported if the underlying regressor supports sample\n",
    "            weights.\n",
    "        **fit_params : dict of string -> object\n",
    "            Parameters passed to the ``estimator.fit`` method of each step.\n",
    "            .. versionadded:: 0.23\n",
    "        Returns\n",
    "        -------\n",
    "        self : object\n",
    "        \"\"\"\n",
    "\n",
    "        if not hasattr(self.estimator, \"fit\"):\n",
    "            raise ValueError(\"The base estimator should implement\"\n",
    "                             \" a fit method\")\n",
    "\n",
    "        X, y = self._validate_data(X, y,\n",
    "                                   force_all_finite=False,\n",
    "                                   multi_output=True, accept_sparse=True)\n",
    "\n",
    "        if is_classifier(self):\n",
    "            check_classification_targets(y)\n",
    "\n",
    "        if y.ndim == 1:\n",
    "            raise ValueError(\"y must have at least two dimensions for \"\n",
    "                             \"multi-output regression but has only one.\")\n",
    "\n",
    "        if (sample_weight is not None and\n",
    "                not has_fit_parameter(self.estimator, 'sample_weight')):\n",
    "            raise ValueError(\"Underlying estimator does not support\"\n",
    "                             \" sample weights.\")\n",
    "\n",
    "        lambda_y = lambda i: '0'+str(i+1) if i<9 else str(i+1)\n",
    "\n",
    "        fit_params_validated = _check_fit_params(X, fit_params)\n",
    "        [(X_test, Y_test)] = fit_params_validated.pop('eval_set')\n",
    "        self.estimators_ = Parallel(n_jobs=self.n_jobs)(\n",
    "            delayed(_fit_estimator)(\n",
    "                self.estimator, X, y[:, i], sample_weight,\n",
    "                **fit_params_validated,\n",
    "                eval_set=[(X_test, Y_test[:, i])],\n",
    "                eval_names=\"Y_\" + lambda_y(i),\n",
    "                verbose=-1,\n",
    "                callbacks=[lightgbm.early_stopping(200)])\n",
    "            for i in range(y.shape[1]))\n",
    "        return self\n",
    "\n",
    "    # model save\n",
    "    def save(self, path):\n",
    "        for chain_idx, estimator in enumerate(self.estimators_):\n",
    "            save_path = '{}_{}.txt'.format(path, chain_idx)\n",
    "            estimator.booster_.save_model(save_path)\n",
    "\n",
    "    # model load\n",
    "    def load(self, path):\n",
    "        for chain_idx, estimator in enumerate(self.estimators_):\n",
    "            save_path = '{}_{}.txt'.format(path, chain_idx)\n",
    "            self.estimators_[chain_idx] = lightgbm.Booster(save_path)"
   ],
   "metadata": {
    "collapsed": false,
    "pycharm": {
     "name": "#%%\n"
    }
   }
  },
  {
   "cell_type": "code",
   "execution_count": null,
   "outputs": [],
   "source": [
    "from sklearn.utils.validation import _check_fit_params\n",
    "from sklearn.base import is_classifier\n",
    "from sklearn.utils.fixes import delayed\n",
    "from joblib import Parallel\n",
    "from sklearn.multioutput import _fit_estimator\n",
    "from sklearn.multioutput import MultiOutputRegressor\n",
    "import xgboost\n",
    "import pickle\n",
    "\n",
    "class MyMultiOutputRegressor_XGB(MultiOutputRegressor):\n",
    "\n",
    "    def fit(self, X, y, sample_weight=None, **fit_params):\n",
    "        \"\"\" Fit the model to data.\n",
    "        Fit a separate model for each output variable.\n",
    "        Parameters\n",
    "        ----------\n",
    "        X : {array-like, sparse matrix} of shape (n_samples, n_features)\n",
    "            Data.\n",
    "        y : {array-like, sparse matrix} of shape (n_samples, n_outputs)\n",
    "            Multi-output targets. An indicator matrix turns on multilabel\n",
    "            estimation.\n",
    "        sample_weight : array-like of shape (n_samples,), default=None\n",
    "            Sample weights. If None, then samples are equally weighted.\n",
    "            Only supported if the underlying regressor supports sample\n",
    "            weights.\n",
    "        **fit_params : dict of string -> object\n",
    "            Parameters passed to the ``estimator.fit`` method of each step.\n",
    "            .. versionadded:: 0.23\n",
    "        Returns\n",
    "        -------\n",
    "        self : object\n",
    "        \"\"\"\n",
    "\n",
    "        if not hasattr(self.estimator, \"fit\"):\n",
    "            raise ValueError(\"The base estimator should implement\"\n",
    "                             \" a fit method\")\n",
    "\n",
    "        X, y = self._validate_data(X, y,\n",
    "                                   force_all_finite=False,\n",
    "                                   multi_output=True, accept_sparse=True)\n",
    "\n",
    "        if is_classifier(self):\n",
    "            check_classification_targets(y)\n",
    "\n",
    "        if y.ndim == 1:\n",
    "            raise ValueError(\"y must have at least two dimensions for \"\n",
    "                             \"multi-output regression but has only one.\")\n",
    "\n",
    "        if (sample_weight is not None and\n",
    "                not has_fit_parameter(self.estimator, 'sample_weight')):\n",
    "            raise ValueError(\"Underlying estimator does not support\"\n",
    "                             \" sample weights.\")\n",
    "\n",
    "        fit_params_validated = _check_fit_params(X, fit_params)\n",
    "        [(X_test, Y_test)] = fit_params_validated.pop('eval_set')\n",
    "        self.estimators_ = Parallel(n_jobs=self.n_jobs)(\n",
    "            delayed(_fit_estimator)(\n",
    "                self.estimator, X, y[:, i],\n",
    "                eval_set=[(X_test, Y_test[:, i])],\n",
    "                early_stopping_rounds=100,\n",
    "                #eval_metric = [\"rmse\"],\n",
    "                verbose=3000)\n",
    "\n",
    "            for i in range(y.shape[1]))\n",
    "        return self\n",
    "\n",
    "    # model save\n",
    "    def save(self, path):\n",
    "        for chain_idx, estimator in enumerate(self.estimators_):\n",
    "            save_path = '{}_{}.dat'.format(path, chain_idx)\n",
    "            pickle.dump(estimator, open(save_path, \"wb\"))\n",
    "\n",
    "    # model load\n",
    "    def load(self, path):\n",
    "        for chain_idx, estimator in enumerate(self.estimators_):\n",
    "            save_path = '{}_{}.dat'.format(path, chain_idx)\n",
    "            model = pickle.load(open(save_path, \"rb\"))"
   ],
   "metadata": {
    "collapsed": false,
    "pycharm": {
     "name": "#%%\n"
    }
   }
  }
 ],
 "metadata": {
  "kernelspec": {
   "display_name": "Python 3",
   "language": "python",
   "name": "python3"
  },
  "language_info": {
   "codemirror_mode": {
    "name": "ipython",
    "version": 2
   },
   "file_extension": ".py",
   "mimetype": "text/x-python",
   "name": "python",
   "nbconvert_exporter": "python",
   "pygments_lexer": "ipython2",
   "version": "2.7.6"
  }
 },
 "nbformat": 4,
 "nbformat_minor": 0
}